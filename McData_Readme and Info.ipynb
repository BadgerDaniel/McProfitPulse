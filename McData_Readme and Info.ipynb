{
 "cells": [
  {
   "cell_type": "markdown",
   "id": "95f49070-79e8-47a2-90c4-aab058892503",
   "metadata": {},
   "source": [
    "The McEDA is the original, messy data pre-processing and EDA\n",
    "( Given time, there will be a V2 that is simply a cleaned version )\n",
    "\n",
    "\n",
    "McDataProcess Part 1 exists to replicate the functionality of McEDA data processing, taking the data from ..... to ......, but skipping EDA and simplifying it.\n",
    "It skips over some of the identification of bad data, and just deletes it.  The details of the data issues can be seen in McEDA\n",
    "\n",
    "The end result dataframe should mirror that of McEDA\n",
    "\n",
    "\n",
    "McData Process Part 2 exists as more data processing, with some oversimplified cost data to prepare for visualizations\n",
    "\n",
    "\n",
    "Finally, the final notebook has the interactive charts."
   ]
  },
  {
   "cell_type": "code",
   "execution_count": null,
   "id": "b9b7244f-d692-4cc7-8fbc-e167d19069b1",
   "metadata": {},
   "outputs": [],
   "source": []
  },
  {
   "cell_type": "code",
   "execution_count": null,
   "id": "ab9525fb-a656-4d6f-aa92-3f5c96cff67e",
   "metadata": {},
   "outputs": [],
   "source": []
  },
  {
   "cell_type": "code",
   "execution_count": null,
   "id": "66f3df2b-7696-41c9-b049-f890d6112034",
   "metadata": {},
   "outputs": [],
   "source": []
  },
  {
   "cell_type": "markdown",
   "id": "569b5e6a-4680-4ddc-9ef9-e11565001721",
   "metadata": {},
   "source": [
    "While it may seem that this tool is lacking much, and has a lot of improvement to answer the simple singular question of \"Was the promotion worth it?\"\n",
    "It is the basis of a greater tool that can be used to analyze similar problems of all kinds."
   ]
  },
  {
   "cell_type": "code",
   "execution_count": null,
   "id": "0f7003db-81c7-48ef-9a1a-66b38bcd7e5c",
   "metadata": {},
   "outputs": [],
   "source": []
  }
 ],
 "metadata": {
  "kernelspec": {
   "display_name": "SoS",
   "language": "sos",
   "name": "sos"
  },
  "language_info": {
   "codemirror_mode": "sos",
   "file_extension": ".sos",
   "mimetype": "text/x-sos",
   "name": "sos",
   "nbconvert_exporter": "sos_notebook.converter.SoS_Exporter",
   "pygments_lexer": "sos"
  }
 },
 "nbformat": 4,
 "nbformat_minor": 5
}
